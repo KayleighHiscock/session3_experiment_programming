{
 "cells": [
  {
   "attachments": {},
   "cell_type": "markdown",
   "metadata": {},
   "source": [
    "# Dictionaries & dataframes\n",
    "\n",
    "We have seen lists and arrays so far, but of course there are many different types of data. As such, there are also many different data structures to store them. In this lecture, we will introduce dictionaries and dataframes, which relate to each other in a similar way as lists and numpy arrays do.\n",
    "\n",
    "First of all, we need to set up our virtual environment again. Let's start out by calling `python -m venv .venv` again from the terminal. Like last time, make sure you are in the current virtual environment in your terminal (indicated by the line starting with `(.venv)`) -- you may need to restart vscode to get this. Unlike last time, we are not going to be installing our packages manually, but instead we will tell python to install all the packages as indicated in a specific file -- this file is called `requirements.txt`. Go ahead and take a look at it! What do you think it means?\n",
    "\n",
    "When you are ready, you can use the following command to install all the packages required for this lecture:\n",
    "`pip install -r requirements.txt`\n",
    "\n",
    "This might take quite a while -- especially psychopy is a very large package. If you run into any problems, let us know as soon as possible! After you are done, run the cell below to confirm that everything is working as expected:"
   ]
  },
  {
   "cell_type": "code",
   "execution_count": 1,
   "metadata": {},
   "outputs": [
    {
     "name": "stdout",
     "output_type": "stream",
     "text": [
      "No virtual environment found.\n",
      "Make sure to follow the instructions, including the `python -m venv .venv` command!\n",
      "You may need to restart Visual Studio Code after creating the virtual environment.\n",
      "On Mac or Linux, you may need to use `python3` instead of `python`, i.e. `python3 -m venv .venv`.\n"
     ]
    }
   ],
   "source": [
    "from helpers import check_venv, check_pandas\n",
    "if check_venv() and check_pandas():\n",
    "    print('Virtual environment and pandas installation detected!')"
   ]
  },
  {
   "attachments": {},
   "cell_type": "markdown",
   "metadata": {},
   "source": [
    "## Dictionaries...\n",
    "\n",
    "Alright, let's start by looking at a different type of data which we might want to use, but still using lists:"
   ]
  },
  {
   "cell_type": "code",
   "execution_count": 3,
   "metadata": {},
   "outputs": [],
   "source": [
    "first_names = ['Marcus', 'Kristin', 'Adam', 'Kimberly', 'Judith']\n",
    "last_names = ['Mcguire', 'Cantu', 'Mendez', 'Wolf', 'Johnson']\n",
    "grades = [3.3, 2.7, 3.7, 2.7, 3.0]"
   ]
  },
  {
   "attachments": {},
   "cell_type": "markdown",
   "metadata": {},
   "source": [
    "Using these lists, how would we go about getting Adam's grade?"
   ]
  },
  {
   "cell_type": "code",
   "execution_count": 4,
   "metadata": {},
   "outputs": [
    {
     "name": "stdout",
     "output_type": "stream",
     "text": [
      "Adam's grade is 3.7\n",
      "3.7\n"
     ]
    }
   ],
   "source": [
    "# Using a for loop:\n",
    "target_name = 'Adam'\n",
    "for name, grade in zip(first_names, grades):\n",
    "    if name == target_name:\n",
    "        print(f'{name}\\'s grade is {grade}')\n",
    "\n",
    "# Or using the .index method:\n",
    "target_index = first_names.index(target_name)\n",
    "print(grades[target_index])"
   ]
  },
  {
   "attachments": {},
   "cell_type": "markdown",
   "metadata": {},
   "source": [
    "This is not ideal -- is there perhaps a better way?\n",
    "\n",
    "Yes, using a dictionary instead of multiple lists! We can represent a single student like this, using a dictionary:"
   ]
  },
  {
   "cell_type": "code",
   "execution_count": 5,
   "metadata": {},
   "outputs": [],
   "source": [
    "student = {\n",
    "    'first_name': 'Marcus',\n",
    "    'last_name': 'Mcguire',\n",
    "    'grade': 3.3\n",
    "}"
   ]
  },
  {
   "attachments": {},
   "cell_type": "markdown",
   "metadata": {},
   "source": [
    "We can then access information by key, rather than by index (as in lists):"
   ]
  },
  {
   "cell_type": "code",
   "execution_count": 6,
   "metadata": {},
   "outputs": [
    {
     "name": "stdout",
     "output_type": "stream",
     "text": [
      "Mcguire\n"
     ]
    }
   ],
   "source": [
    "print(student['last_name'])"
   ]
  },
  {
   "attachments": {},
   "cell_type": "markdown",
   "metadata": {},
   "source": [
    "As you can imagine, dictionaries are very nice to store a single set of datapoints in a more structured form. But we can combine lists and dictionaries as well, to get collections of such datapoints:"
   ]
  },
  {
   "cell_type": "code",
   "execution_count": 7,
   "metadata": {},
   "outputs": [],
   "source": [
    "students = [\n",
    "    {'first_name': 'Marcus', 'last_name': 'Mcguire', 'grade': 3.3},\n",
    "    {'first_name': 'Kristin', 'last_name': 'Cantu', 'grade': 2.7},\n",
    "    {'first_name': 'Adam', 'last_name': 'Mendez', 'grade': 3.7},\n",
    "    {'first_name': 'Kimberly', 'last_name': 'Wolf', 'grade': 2.7},\n",
    "    {'first_name': 'Judith', 'last_name': 'Johnson', 'grade': 3.0}\n",
    "]"
   ]
  },
  {
   "attachments": {},
   "cell_type": "markdown",
   "metadata": {},
   "source": [
    "As with nested lists, we can chain the square brackets to get information:"
   ]
  },
  {
   "cell_type": "code",
   "execution_count": 8,
   "metadata": {},
   "outputs": [
    {
     "name": "stdout",
     "output_type": "stream",
     "text": [
      "Mendez\n"
     ]
    }
   ],
   "source": [
    "print(students[2]['last_name'])"
   ]
  },
  {
   "attachments": {},
   "cell_type": "markdown",
   "metadata": {},
   "source": [
    "So that solved one of our problems, the general organisation and accessibility of our data. However, it doesn't make looking up rows of data thát much easier:"
   ]
  },
  {
   "cell_type": "code",
   "execution_count": 9,
   "metadata": {},
   "outputs": [
    {
     "name": "stdout",
     "output_type": "stream",
     "text": [
      "3.0\n"
     ]
    }
   ],
   "source": [
    "target_name = 'Judith'\n",
    "for student in students:\n",
    "    if student['first_name'] == target_name:\n",
    "        print(student['grade'])"
   ]
  },
  {
   "attachments": {},
   "cell_type": "markdown",
   "metadata": {},
   "source": [
    "However, I've heard that `pandas` are pretty cool animals..."
   ]
  },
  {
   "attachments": {},
   "cell_type": "markdown",
   "metadata": {},
   "source": [
    "## ... and Dataframes!\n",
    "\n",
    "The `pandas` package in Python provides us with a new data structure: the `DataFrame`! It's essentially tabular data, very similar to the list of dictionaries we used before. In fact, we can use the list of dictionaries to create the `DataFrame`!"
   ]
  },
  {
   "cell_type": "code",
   "execution_count": 11,
   "metadata": {},
   "outputs": [
    {
     "data": {
      "text/html": [
       "<div>\n",
       "<style scoped>\n",
       "    .dataframe tbody tr th:only-of-type {\n",
       "        vertical-align: middle;\n",
       "    }\n",
       "\n",
       "    .dataframe tbody tr th {\n",
       "        vertical-align: top;\n",
       "    }\n",
       "\n",
       "    .dataframe thead th {\n",
       "        text-align: right;\n",
       "    }\n",
       "</style>\n",
       "<table border=\"1\" class=\"dataframe\">\n",
       "  <thead>\n",
       "    <tr style=\"text-align: right;\">\n",
       "      <th></th>\n",
       "      <th>first_name</th>\n",
       "      <th>last_name</th>\n",
       "      <th>grade</th>\n",
       "    </tr>\n",
       "  </thead>\n",
       "  <tbody>\n",
       "    <tr>\n",
       "      <th>0</th>\n",
       "      <td>Marcus</td>\n",
       "      <td>Mcguire</td>\n",
       "      <td>3.3</td>\n",
       "    </tr>\n",
       "    <tr>\n",
       "      <th>1</th>\n",
       "      <td>Kristin</td>\n",
       "      <td>Cantu</td>\n",
       "      <td>2.7</td>\n",
       "    </tr>\n",
       "    <tr>\n",
       "      <th>2</th>\n",
       "      <td>Adam</td>\n",
       "      <td>Mendez</td>\n",
       "      <td>3.7</td>\n",
       "    </tr>\n",
       "    <tr>\n",
       "      <th>3</th>\n",
       "      <td>Kimberly</td>\n",
       "      <td>Wolf</td>\n",
       "      <td>2.7</td>\n",
       "    </tr>\n",
       "    <tr>\n",
       "      <th>4</th>\n",
       "      <td>Judith</td>\n",
       "      <td>Johnson</td>\n",
       "      <td>3.0</td>\n",
       "    </tr>\n",
       "  </tbody>\n",
       "</table>\n",
       "</div>"
      ],
      "text/plain": [
       "  first_name last_name  grade\n",
       "0     Marcus   Mcguire    3.3\n",
       "1    Kristin     Cantu    2.7\n",
       "2       Adam    Mendez    3.7\n",
       "3   Kimberly      Wolf    2.7\n",
       "4     Judith   Johnson    3.0"
      ]
     },
     "execution_count": 11,
     "metadata": {},
     "output_type": "execute_result"
    }
   ],
   "source": [
    "import pandas as pd\n",
    "\n",
    "students_dataframe = pd.DataFrame(students)\n",
    "students_dataframe  # This does something fancy if you're using a notebook"
   ]
  },
  {
   "attachments": {},
   "cell_type": "markdown",
   "metadata": {},
   "source": [
    "We can access information from a dataframe in several ways:"
   ]
  },
  {
   "cell_type": "code",
   "execution_count": 12,
   "metadata": {},
   "outputs": [
    {
     "name": "stdout",
     "output_type": "stream",
     "text": [
      "0      Marcus\n",
      "1     Kristin\n",
      "2        Adam\n",
      "3    Kimberly\n",
      "4      Judith\n",
      "Name: first_name, dtype: object\n",
      "first_name    Kimberly\n",
      "last_name         Wolf\n",
      "grade              2.7\n",
      "Name: 3, dtype: object\n",
      "Kimberly\n"
     ]
    }
   ],
   "source": [
    "print(students_dataframe['first_name'])  # By column name\n",
    "print(students_dataframe.iloc[3])  # By row index\n",
    "print(students_dataframe.loc[3, 'first_name'])  # By both"
   ]
  },
  {
   "attachments": {},
   "cell_type": "markdown",
   "metadata": {},
   "source": [
    "Unlike with standard lists or dictionaries, we can easily perform operations on a whole column -- like looking for a certain person:"
   ]
  },
  {
   "cell_type": "code",
   "execution_count": 13,
   "metadata": {},
   "outputs": [
    {
     "data": {
      "text/plain": [
       "0    False\n",
       "1    False\n",
       "2    False\n",
       "3    False\n",
       "4     True\n",
       "Name: first_name, dtype: bool"
      ]
     },
     "execution_count": 13,
     "metadata": {},
     "output_type": "execute_result"
    }
   ],
   "source": [
    "target_name = 'Judith'\n",
    "mask = students_dataframe['first_name'] == target_name\n",
    "mask"
   ]
  },
  {
   "attachments": {},
   "cell_type": "markdown",
   "metadata": {},
   "source": [
    "This results in a 'mask': a series of Boolean (True/False) values, one for each row, indicating whether the condition was met.\n",
    "In this case, it shows us in which rows the `first_name` column was equal to our `target_name` variable ('Judith'). We can then use this mask instead of an index to get information belonging to those rows where the value is equal to True:"
   ]
  },
  {
   "cell_type": "code",
   "execution_count": 14,
   "metadata": {},
   "outputs": [
    {
     "name": "stdout",
     "output_type": "stream",
     "text": [
      "4    3.0\n",
      "Name: grade, dtype: float64\n",
      "  first_name last_name  grade\n",
      "4     Judith   Johnson    3.0\n",
      "  last_name  grade\n",
      "4   Johnson    3.0\n"
     ]
    }
   ],
   "source": [
    "print(students_dataframe.loc[mask, 'grade'])  # Like the grade\n",
    "print(students_dataframe.loc[mask])  # Or the whole row\n",
    "print(students_dataframe.loc[mask, ['last_name', 'grade']])  # Or multiple columns!"
   ]
  },
  {
   "attachments": {},
   "cell_type": "markdown",
   "metadata": {},
   "source": [
    "We were breaking this up into steps for you, but actually, you can do all of this in a single line as well:"
   ]
  },
  {
   "cell_type": "code",
   "execution_count": 15,
   "metadata": {},
   "outputs": [
    {
     "data": {
      "text/plain": [
       "4    3.0\n",
       "Name: grade, dtype: float64"
      ]
     },
     "execution_count": 15,
     "metadata": {},
     "output_type": "execute_result"
    }
   ],
   "source": [
    "students_dataframe.loc[students_dataframe['first_name'] == target_name, 'grade']"
   ]
  },
  {
   "attachments": {},
   "cell_type": "markdown",
   "metadata": {},
   "source": [
    "Pandas, like numpy, has lots of built-in methods to make your life easy. For instance, to get the student with the highest grade:"
   ]
  },
  {
   "cell_type": "code",
   "execution_count": 16,
   "metadata": {},
   "outputs": [
    {
     "data": {
      "text/plain": [
       "first_name      Adam\n",
       "last_name     Mendez\n",
       "grade            3.7\n",
       "Name: 2, dtype: object"
      ]
     },
     "execution_count": 16,
     "metadata": {},
     "output_type": "execute_result"
    }
   ],
   "source": [
    "index = students_dataframe['grade'].argmax()\n",
    "students_dataframe.iloc[index]"
   ]
  },
  {
   "attachments": {},
   "cell_type": "markdown",
   "metadata": {},
   "source": [
    "## Writing and reading dataframes\n",
    "\n",
    "Now we have a nicely structured type of data, we might want to also have a way to easily read and write it from or to our disk. After all, it would be a bit of a hassle to have to construct our dataframes manually every time, using lists of dictionaries. Luckily, the `pandas` package has got us covered:"
   ]
  },
  {
   "cell_type": "code",
   "execution_count": 20,
   "metadata": {},
   "outputs": [],
   "source": [
    "students_dataframe.to_csv('students.csv', index=False)"
   ]
  },
  {
   "attachments": {},
   "cell_type": "markdown",
   "metadata": {},
   "source": [
    "Go check it out! You can even go add a row to the `csv` (comma-separated value) file yourself, like you would maybe do during data collection. (Although, more likely, a script would do that for you.)\n",
    "\n",
    "Now, just for completeness, let's look at how we load this data back in:"
   ]
  },
  {
   "cell_type": "code",
   "execution_count": 21,
   "metadata": {},
   "outputs": [
    {
     "data": {
      "text/html": [
       "<div>\n",
       "<style scoped>\n",
       "    .dataframe tbody tr th:only-of-type {\n",
       "        vertical-align: middle;\n",
       "    }\n",
       "\n",
       "    .dataframe tbody tr th {\n",
       "        vertical-align: top;\n",
       "    }\n",
       "\n",
       "    .dataframe thead th {\n",
       "        text-align: right;\n",
       "    }\n",
       "</style>\n",
       "<table border=\"1\" class=\"dataframe\">\n",
       "  <thead>\n",
       "    <tr style=\"text-align: right;\">\n",
       "      <th></th>\n",
       "      <th>first_name</th>\n",
       "      <th>last_name</th>\n",
       "      <th>grade</th>\n",
       "    </tr>\n",
       "  </thead>\n",
       "  <tbody>\n",
       "    <tr>\n",
       "      <th>0</th>\n",
       "      <td>Marcus</td>\n",
       "      <td>Mcguire</td>\n",
       "      <td>3.3</td>\n",
       "    </tr>\n",
       "    <tr>\n",
       "      <th>1</th>\n",
       "      <td>Kristin</td>\n",
       "      <td>Cantu</td>\n",
       "      <td>2.7</td>\n",
       "    </tr>\n",
       "    <tr>\n",
       "      <th>2</th>\n",
       "      <td>Adam</td>\n",
       "      <td>Mendez</td>\n",
       "      <td>3.7</td>\n",
       "    </tr>\n",
       "    <tr>\n",
       "      <th>3</th>\n",
       "      <td>Kimberly</td>\n",
       "      <td>Wolf</td>\n",
       "      <td>2.7</td>\n",
       "    </tr>\n",
       "    <tr>\n",
       "      <th>4</th>\n",
       "      <td>Judith</td>\n",
       "      <td>Johnson</td>\n",
       "      <td>3.0</td>\n",
       "    </tr>\n",
       "  </tbody>\n",
       "</table>\n",
       "</div>"
      ],
      "text/plain": [
       "  first_name last_name  grade\n",
       "0     Marcus   Mcguire    3.3\n",
       "1    Kristin     Cantu    2.7\n",
       "2       Adam    Mendez    3.7\n",
       "3   Kimberly      Wolf    2.7\n",
       "4     Judith   Johnson    3.0"
      ]
     },
     "execution_count": 21,
     "metadata": {},
     "output_type": "execute_result"
    }
   ],
   "source": [
    "loaded_students = pd.read_csv('students.csv')\n",
    "loaded_students"
   ]
  }
 ],
 "metadata": {
  "kernelspec": {
   "display_name": ".venv",
   "language": "python",
   "name": "python3"
  },
  "language_info": {
   "codemirror_mode": {
    "name": "ipython",
    "version": 3
   },
   "file_extension": ".py",
   "mimetype": "text/x-python",
   "name": "python",
   "nbconvert_exporter": "python",
   "pygments_lexer": "ipython3",
   "version": "3.9.13"
  },
  "orig_nbformat": 4,
  "vscode": {
   "interpreter": {
    "hash": "c2ea10b92d699fc0581a30d88f3b645d375e24f96bc25a0c221cc302018960b7"
   }
  }
 },
 "nbformat": 4,
 "nbformat_minor": 2
}
